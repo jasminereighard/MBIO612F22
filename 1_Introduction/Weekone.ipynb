{
 "cells": [
  {
   "cell_type": "code",
   "execution_count": null,
   "id": "a9d6a07f",
   "metadata": {},
   "outputs": [],
   "source": []
  },
  {
   "cell_type": "markdown",
   "id": "8fb34f02",
   "metadata": {},
   "source": [
    "### Question 1\n",
    "\n",
    "*  Draw a concepts diagram that uses all the following R and programming terminology \n",
    "   * Include any missing keywords that will simplify the concepts diagrams \n",
    "\n",
    "\n",
    "`Code`, `Variable`, `Data`, `Function`, `Call`, `Invoke`, `Type`, `Expression`, `Assign`, `Return value`, `Character`, `Numeric`, `Integer`, `Logical`, `Data structure`, `Arguments`, `Parameters`, `Default values`, `Vector`, `Data Type`, `Statement`, `Comment`\n",
    "\n",
    " For a brief description of concepts diagrams, see the following [page](https://www.lucidchart.com/pages/concept-map). A phone picture of simple doodle on paper with a pen will do, there is no need for a specific tool.\n",
    "\n",
    "\n",
    "\n",
    "We can discuss your solution next week. However, you are welcome to attach an image here if you wish. The following syntax can be used to include an image in a Jupyter or notebook:\n",
    "\n",
    "```markdown\n",
    "![]()\n",
    "```\n",
    "\n",
    "R users can, if they wish, include the URL where their image can be found."
   ]
  },
  {
   "cell_type": "markdown",
   "id": "dcace754",
   "metadata": {},
   "source": [
    "### Question 2\n",
    "\n",
    "* Rename this notebook to `Practical_1`\n",
    "\n",
    "* Make sure the notebook is set to use the `R` Kernel (instead of python by default)\n",
    "  * This is called the `runtime`\n",
    "\n",
    "* Test the runtime to make sure everything works, use the cell below to instantiate a vector `x` with any 5 values and computing its mean.\n",
    "  * The mean function can be invoked using `mean` and passing it `x`\n",
    "  * Assign the returned value to a variable called `y`\n",
    "\n",
    "* Create a cell above the current one and describe the computation that you just did\n",
    "  * A title that reads: \"This is a markdown test\"\n",
    "  * Text that reads: \"the variable y contains the mean of 5 values.\"\n",
    "  * Try to format (emphasize) the name `x` so it stands out.\n",
    "\n"
   ]
  },
  {
   "cell_type": "markdown",
   "id": "23688d33",
   "metadata": {},
   "source": [
    "# This is a markdown test\n",
    "The variable `y` contains the mean of 5 values instanatiated to vector `x`. \n"
   ]
  },
  {
   "cell_type": "code",
   "execution_count": 8,
   "id": "9be1d8f9",
   "metadata": {},
   "outputs": [
    {
     "data": {
      "text/html": [
       "3"
      ],
      "text/latex": [
       "3"
      ],
      "text/markdown": [
       "3"
      ],
      "text/plain": [
       "[1] 3"
      ]
     },
     "metadata": {},
     "output_type": "display_data"
    }
   ],
   "source": [
    "x <- 1:5\n",
    "mean(x)\n",
    "y <- 3"
   ]
  },
  {
   "cell_type": "markdown",
   "id": "96a5872d",
   "metadata": {},
   "source": [
    "### Question 3\n",
    "\n",
    "In cell below:\n",
    "* Crate a statement that assigns to a variable `sec_per_min` the number of seconds in each minute\n",
    "* Use the variable `sec_per_min` to compute a new variable called `sec_per_hour` representing the number of seconds per hour\n",
    "  * `sec_per_hour` is simply the number of `sec_per_min` multilied by 60.\n",
    "* Use the variable `sec_per_hour` to compute a variable called `sec_per_day` representing the number of seconds per day\n",
    "  * `sec_per_day` is simply the numebr of `sec_per_hour` multilied by 24.\n",
    "\n",
    "* Use an expression to show the calculated value; i.e., the number of seconds in a single day."
   ]
  },
  {
   "cell_type": "code",
   "execution_count": 16,
   "id": "b65f8b70",
   "metadata": {
    "scrolled": true
   },
   "outputs": [
    {
     "data": {
      "text/html": [
       "86400"
      ],
      "text/latex": [
       "86400"
      ],
      "text/markdown": [
       "86400"
      ],
      "text/plain": [
       "[1] 86400"
      ]
     },
     "metadata": {},
     "output_type": "display_data"
    }
   ],
   "source": [
    "sec_per_min <- 60\n",
    "sec_per_hour <- sec_per_min * 60\n",
    "sec_per_day <- sec_per_hour * 24\n",
    "sec_per_day"
   ]
  },
  {
   "cell_type": "markdown",
   "id": "b845130f",
   "metadata": {},
   "source": [
    "### Question 4\n",
    "\n",
    "* Recall that `c` creates atomic vectors\n",
    "\n",
    "* What does the following create? \n",
    "  * Specifically, what is the of the data it contains?\n",
    "\n",
    "`c(1, 2, 3, \"Hi\")`\n",
    "It would create a vector consisting of the elements within the parentheses\n",
    "\n",
    "* Would the following be valid?\n",
    "No, because \"Hi\" is not a numeric argument\n",
    "`c(1, 2, 3, \"Hi\") + 1 `\n",
    "\n",
    "* How about \n",
    "yes, because FALSE is a boolean data type\n",
    "`c(1, 2, 3, FALSE) + 1 `\n",
    "\n",
    "* Hint: recall that know that the function `class()` returns the atomic data type stored in a vector\n"
   ]
  },
  {
   "cell_type": "markdown",
   "id": "ba563acd",
   "metadata": {},
   "source": [
    "### Question 5: \n",
    "\n",
    "* We will be reproducing the following plot\n",
    "\n",
    "![](https://www.dropbox.com/s/c4nf3n96np3i7nm/simple_qplot_example.png?dl=1)\n",
    "\n",
    "\n"
   ]
  },
  {
   "cell_type": "markdown",
   "id": "36ea72a1",
   "metadata": {},
   "source": [
    "### Create `x-axis` values\n",
    "\n",
    "* Create a variable called `x_axis` that is a `vector` of numerical values between 0 and 10 with a step of 0.5. \n",
    "    * i.e., `x_axis` will contain the values 0, 0.5, 1, 1.5, 2 .... 10\n",
    "    * Hint: you need a function that returns a sequence of values as a vector"
   ]
  },
  {
   "cell_type": "code",
   "execution_count": 26,
   "id": "ad55fe68",
   "metadata": {},
   "outputs": [
    {
     "data": {
      "text/html": [
       "<style>\n",
       ".list-inline {list-style: none; margin:0; padding: 0}\n",
       ".list-inline>li {display: inline-block}\n",
       ".list-inline>li:not(:last-child)::after {content: \"\\00b7\"; padding: 0 .5ex}\n",
       "</style>\n",
       "<ol class=list-inline><li>0</li><li>0.5</li><li>1</li><li>1.5</li><li>2</li><li>2.5</li><li>3</li><li>3.5</li><li>4</li><li>4.5</li><li>5</li><li>5.5</li><li>6</li><li>6.5</li><li>7</li><li>7.5</li><li>8</li><li>8.5</li><li>9</li><li>9.5</li><li>10</li></ol>\n"
      ],
      "text/latex": [
       "\\begin{enumerate*}\n",
       "\\item 0\n",
       "\\item 0.5\n",
       "\\item 1\n",
       "\\item 1.5\n",
       "\\item 2\n",
       "\\item 2.5\n",
       "\\item 3\n",
       "\\item 3.5\n",
       "\\item 4\n",
       "\\item 4.5\n",
       "\\item 5\n",
       "\\item 5.5\n",
       "\\item 6\n",
       "\\item 6.5\n",
       "\\item 7\n",
       "\\item 7.5\n",
       "\\item 8\n",
       "\\item 8.5\n",
       "\\item 9\n",
       "\\item 9.5\n",
       "\\item 10\n",
       "\\end{enumerate*}\n"
      ],
      "text/markdown": [
       "1. 0\n",
       "2. 0.5\n",
       "3. 1\n",
       "4. 1.5\n",
       "5. 2\n",
       "6. 2.5\n",
       "7. 3\n",
       "8. 3.5\n",
       "9. 4\n",
       "10. 4.5\n",
       "11. 5\n",
       "12. 5.5\n",
       "13. 6\n",
       "14. 6.5\n",
       "15. 7\n",
       "16. 7.5\n",
       "17. 8\n",
       "18. 8.5\n",
       "19. 9\n",
       "20. 9.5\n",
       "21. 10\n",
       "\n",
       "\n"
      ],
      "text/plain": [
       " [1]  0.0  0.5  1.0  1.5  2.0  2.5  3.0  3.5  4.0  4.5  5.0  5.5  6.0  6.5  7.0\n",
       "[16]  7.5  8.0  8.5  9.0  9.5 10.0"
      ]
     },
     "metadata": {},
     "output_type": "display_data"
    },
    {
     "data": {
      "text/html": [
       "<style>\n",
       ".list-inline {list-style: none; margin:0; padding: 0}\n",
       ".list-inline>li {display: inline-block}\n",
       ".list-inline>li:not(:last-child)::after {content: \"\\00b7\"; padding: 0 .5ex}\n",
       "</style>\n",
       "<ol class=list-inline><li>0</li><li>0.5</li><li>1</li><li>1.5</li><li>2</li><li>2.5</li><li>3</li><li>3.5</li><li>4</li><li>4.5</li><li>5</li><li>5.5</li><li>6</li><li>6.5</li><li>7</li><li>7.5</li><li>8</li><li>8.5</li><li>9</li><li>9.5</li><li>10</li></ol>\n"
      ],
      "text/latex": [
       "\\begin{enumerate*}\n",
       "\\item 0\n",
       "\\item 0.5\n",
       "\\item 1\n",
       "\\item 1.5\n",
       "\\item 2\n",
       "\\item 2.5\n",
       "\\item 3\n",
       "\\item 3.5\n",
       "\\item 4\n",
       "\\item 4.5\n",
       "\\item 5\n",
       "\\item 5.5\n",
       "\\item 6\n",
       "\\item 6.5\n",
       "\\item 7\n",
       "\\item 7.5\n",
       "\\item 8\n",
       "\\item 8.5\n",
       "\\item 9\n",
       "\\item 9.5\n",
       "\\item 10\n",
       "\\end{enumerate*}\n"
      ],
      "text/markdown": [
       "1. 0\n",
       "2. 0.5\n",
       "3. 1\n",
       "4. 1.5\n",
       "5. 2\n",
       "6. 2.5\n",
       "7. 3\n",
       "8. 3.5\n",
       "9. 4\n",
       "10. 4.5\n",
       "11. 5\n",
       "12. 5.5\n",
       "13. 6\n",
       "14. 6.5\n",
       "15. 7\n",
       "16. 7.5\n",
       "17. 8\n",
       "18. 8.5\n",
       "19. 9\n",
       "20. 9.5\n",
       "21. 10\n",
       "\n",
       "\n"
      ],
      "text/plain": [
       " [1]  0.0  0.5  1.0  1.5  2.0  2.5  3.0  3.5  4.0  4.5  5.0  5.5  6.0  6.5  7.0\n",
       "[16]  7.5  8.0  8.5  9.0  9.5 10.0"
      ]
     },
     "metadata": {},
     "output_type": "display_data"
    }
   ],
   "source": [
    "x_axis <- c(seq(0, 10, by=0.5))\n",
    "x_axis\n",
    "x <- x_axis\n",
    "x\n",
    "\n"
   ]
  },
  {
   "cell_type": "markdown",
   "id": "51d5fa41",
   "metadata": {},
   "source": [
    "### Create `y-axis` values\n",
    "\n",
    "* Create a variable called `y_axis` that is a list of $x^2 + 2x + 3 $. \n",
    "* I.e., each position in `y_axis` is computed as $x^2 + 2x + 3 $, x is the value at the same position in `x_axis`\n",
    "* For example: \n",
    "  * The value at the first position of `y_axis` is 0^2 + 2*0 + 3 = 3\n",
    "  * The value at the second position of `y_axis` is 0.5^2 + 2*0.5 + 3 = 4.25\n",
    "  * etc...\n",
    "* Hint: remember that arithmetic operations on a vector are evaluated element-wise"
   ]
  },
  {
   "cell_type": "code",
   "execution_count": 28,
   "id": "adc293ad",
   "metadata": {
    "collapsed": true
   },
   "outputs": [
    {
     "data": {
      "text/html": [
       "<style>\n",
       ".list-inline {list-style: none; margin:0; padding: 0}\n",
       ".list-inline>li {display: inline-block}\n",
       ".list-inline>li:not(:last-child)::after {content: \"\\00b7\"; padding: 0 .5ex}\n",
       "</style>\n",
       "<ol class=list-inline><li>3</li><li>4.25</li><li>6</li><li>8.25</li><li>11</li><li>14.25</li><li>18</li><li>22.25</li><li>27</li><li>32.25</li><li>38</li><li>44.25</li><li>51</li><li>58.25</li><li>66</li><li>74.25</li><li>83</li><li>92.25</li><li>102</li><li>112.25</li><li>123</li></ol>\n"
      ],
      "text/latex": [
       "\\begin{enumerate*}\n",
       "\\item 3\n",
       "\\item 4.25\n",
       "\\item 6\n",
       "\\item 8.25\n",
       "\\item 11\n",
       "\\item 14.25\n",
       "\\item 18\n",
       "\\item 22.25\n",
       "\\item 27\n",
       "\\item 32.25\n",
       "\\item 38\n",
       "\\item 44.25\n",
       "\\item 51\n",
       "\\item 58.25\n",
       "\\item 66\n",
       "\\item 74.25\n",
       "\\item 83\n",
       "\\item 92.25\n",
       "\\item 102\n",
       "\\item 112.25\n",
       "\\item 123\n",
       "\\end{enumerate*}\n"
      ],
      "text/markdown": [
       "1. 3\n",
       "2. 4.25\n",
       "3. 6\n",
       "4. 8.25\n",
       "5. 11\n",
       "6. 14.25\n",
       "7. 18\n",
       "8. 22.25\n",
       "9. 27\n",
       "10. 32.25\n",
       "11. 38\n",
       "12. 44.25\n",
       "13. 51\n",
       "14. 58.25\n",
       "15. 66\n",
       "16. 74.25\n",
       "17. 83\n",
       "18. 92.25\n",
       "19. 102\n",
       "20. 112.25\n",
       "21. 123\n",
       "\n",
       "\n"
      ],
      "text/plain": [
       " [1]   3.00   4.25   6.00   8.25  11.00  14.25  18.00  22.25  27.00  32.25\n",
       "[11]  38.00  44.25  51.00  58.25  66.00  74.25  83.00  92.25 102.00 112.25\n",
       "[21] 123.00"
      ]
     },
     "metadata": {},
     "output_type": "display_data"
    }
   ],
   "source": [
    "y_axis <- c(x^2 + 2 * x + 3)\n",
    "y_axis\n",
    "\n",
    "\n"
   ]
  },
  {
   "cell_type": "markdown",
   "id": "fe96674b",
   "metadata": {},
   "source": [
    "### Generate the plot of `x_axis` versus `y_axis`\n",
    "\n",
    "* Plot the values of `x_axis` and `y_axis`\n",
    "* Use the `qplot` function, which is part of `ggplot` library to plot the `x_axis` and `y_axis`.\n",
    "    * You can consult `qplot`'s documentation to see what arguments it takes as input\n",
    " \n",
    "* Change the behavior of your plot so that it has:\n",
    "  * A label for the `x-axis`. Mine says \"My  x_axis\"\n",
    "  * A label for the `y-axis`. Mine says \"My  x_axis\"\n",
    "  * A title. Mine says \"My amazing plot of x_axis versus y_axis\"  \n",
    "  * Dots that are bigger than those produced by default.\n",
    " \n",
    "* Hint: We know that we can change the default behavior of a function by changing the default parameters.\n",
    "  * Which default parameter (param) controls the `x-axis`, `y-axis`, and plot labels?\n",
    "  * Which default parameter controls the size of the symbol (dot here)?\n"
   ]
  },
  {
   "cell_type": "code",
   "execution_count": 65,
   "id": "ea0fbb6f",
   "metadata": {},
   "outputs": [],
   "source": [
    "dataset <- data.frame(x_axis, y_axis)"
   ]
  },
  {
   "cell_type": "code",
   "execution_count": 77,
   "id": "992965ab",
   "metadata": {},
   "outputs": [],
   "source": [
    "p <- ggplot(data = dataset, aes(x_axis, y_axis))+ \n",
    "geom_point(size = 7)"
   ]
  },
  {
   "cell_type": "code",
   "execution_count": 76,
   "id": "4c6e610b",
   "metadata": {},
   "outputs": [
    {
     "data": {
      "image/png": "[encoded data removed]",
      "text/plain": [
       "plot without title"
      ]
     },
     "metadata": {
      "image/png": {
       "height": 420,
       "width": 420
      }
     },
     "output_type": "display_data"
    }
   ],
   "source": [
    "p + labs(title = \"My time consuming plot of x axis vs y axis\", \n",
    "         y = \"My y axis\", x = \"My x axis\")+\n",
    " theme(plot.title = element_text(size = 15, face = \"bold\"),\n",
    "     axis.title.x = element_text(size = 14, face = \"bold\"),\n",
    "    axis.title.y = element_text(size = 14, face = \"bold\")\n",
    "  )\n"
   ]
  }
 ],
 "metadata": {
  "kernelspec": {
   "display_name": "R",
   "language": "R",
   "name": "ir"
  },
  "language_info": {
   "codemirror_mode": "r",
   "file_extension": ".r",
   "mimetype": "text/x-r-source",
   "name": "R",
   "pygments_lexer": "r",
   "version": "4.2.1"
  }
 },
 "nbformat": 4,
 "nbformat_minor": 5
}
