{
 "cells": [
  {
   "cell_type": "markdown",
   "id": "b65bf14d",
   "metadata": {},
   "source": [
    "### Load R packages for importing and data visualization"
   ]
  },
  {
   "cell_type": "code",
   "execution_count": 93,
   "id": "5f1d5c0a",
   "metadata": {},
   "outputs": [],
   "source": [
    "library(\"tidyverse\")\n",
    "library(\"readxl\")\n",
    "library(\"stringr\")\n",
    "library(\"ggplot2\")\n",
    "library(\"dplyr\")"
   ]
  },
  {
   "cell_type": "code",
   "execution_count": 94,
   "id": "7b4dbb27",
   "metadata": {},
   "outputs": [],
   "source": [
    "rawgrowth <- read_excel(\"/Users/jasminereighard/Downloads/finalproject_rawalgaegrowth.xlsx\")"
   ]
  },
  {
   "cell_type": "markdown",
   "id": "7c6bd12f",
   "metadata": {},
   "source": [
    "## 1. Link to a description of the variables in the dataset below\n",
    "### Includes how this data is used within the domain and the number of observations\n",
    "[Link here](https://docs.google.com/document/d/10wJUzD6_f__jpcLPoO_58aJF5tneE4EOSoO9PGh1oQA/edit?usp=sharing)"
   ]
  },
  {
   "cell_type": "markdown",
   "id": "fbe10c57",
   "metadata": {},
   "source": [
    "## Data wrangling"
   ]
  },
  {
   "cell_type": "markdown",
   "id": "ec280d8e",
   "metadata": {},
   "source": [
    "#### Data is connected by commas and need to be deliminated into their own cells"
   ]
  },
  {
   "cell_type": "code",
   "execution_count": 95,
   "id": "f096ab54",
   "metadata": {},
   "outputs": [],
   "source": [
    "rawgrowth[c('Date', 'ID', 'Species', 'Weight difference (g)', 'Run','Lanai side', 'Treatment' ,'Temperature (C)', 'Initial weight (g)', 'Final weight (g)','Plant ID', 'RLC order', 'Lunar phase')] <- str_split_fixed(rawgrowth$'date,ID,Species,weight difference,run,lanai side,treatment,temperature,Initial weight,final weight,plant ID,RLC order, lunar phase', ',', 13)"
   ]
  },
  {
   "cell_type": "markdown",
   "id": "7c03ae76",
   "metadata": {},
   "source": [
    "#### Remove column with multiple variables"
   ]
  },
  {
   "cell_type": "code",
   "execution_count": 96,
   "id": "313f9c95",
   "metadata": {},
   "outputs": [],
   "source": [
    "rawgrowth$'date,ID,Species,weight difference,run,lanai side,treatment,temperature,Initial weight,final weight,plant ID,RLC order, lunar phase' <- NULL"
   ]
  },
  {
   "cell_type": "code",
   "execution_count": 97,
   "id": "62bef8fe",
   "metadata": {},
   "outputs": [
    {
     "data": {
      "text/html": [
       "<table class=\"dataframe\">\n",
       "<caption>A tibble: 6 × 13</caption>\n",
       "<thead>\n",
       "\t<tr><th scope=col>Date</th><th scope=col>ID</th><th scope=col>Species</th><th scope=col>Weight difference (g)</th><th scope=col>Run</th><th scope=col>Lanai side</th><th scope=col>Treatment</th><th scope=col>Temperature (C)</th><th scope=col>Initial weight (g)</th><th scope=col>Final weight (g)</th><th scope=col>Plant ID</th><th scope=col>RLC order</th><th scope=col>Lunar phase</th></tr>\n",
       "\t<tr><th scope=col>&lt;chr&gt;</th><th scope=col>&lt;chr&gt;</th><th scope=col>&lt;chr&gt;</th><th scope=col>&lt;chr&gt;</th><th scope=col>&lt;chr&gt;</th><th scope=col>&lt;chr&gt;</th><th scope=col>&lt;chr&gt;</th><th scope=col>&lt;chr&gt;</th><th scope=col>&lt;chr&gt;</th><th scope=col>&lt;chr&gt;</th><th scope=col>&lt;chr&gt;</th><th scope=col>&lt;chr&gt;</th><th scope=col>&lt;chr&gt;</th></tr>\n",
       "</thead>\n",
       "<tbody>\n",
       "\t<tr><td>9/28/21</td><td>Hm1-1</td><td>Hm</td><td>0.0466 </td><td>1</td><td>ewa</td><td>1</td><td>30 C</td><td>0.2879</td><td>0.3345</td><td>1</td><td>6</td><td>IV</td></tr>\n",
       "\t<tr><td>9/28/21</td><td>Hm1-2</td><td>Hm</td><td>0.1107 </td><td>1</td><td>ewa</td><td>2</td><td>30 C</td><td>0.2773</td><td>0.388 </td><td>1</td><td>6</td><td>IV</td></tr>\n",
       "\t<tr><td>9/28/21</td><td>Hm1-3</td><td>Hm</td><td>0.0968 </td><td>1</td><td>ewa</td><td>3</td><td>30 C</td><td>0.2848</td><td>0.3816</td><td>1</td><td>6</td><td>IV</td></tr>\n",
       "\t<tr><td>9/28/21</td><td>Hm1-4</td><td>Hm</td><td>0.08   </td><td>1</td><td>ewa</td><td>4</td><td>30 C</td><td>0.2477</td><td>0.3277</td><td>1</td><td>6</td><td>IV</td></tr>\n",
       "\t<tr><td>9/28/21</td><td>Ul1-1</td><td>Ul</td><td>-0.0287</td><td>1</td><td>ewa</td><td>1</td><td>30 C</td><td>0.2705</td><td>0.2418</td><td>1</td><td>6</td><td>IV</td></tr>\n",
       "\t<tr><td>9/28/21</td><td>Ul1-2</td><td>Ul</td><td>-0.0745</td><td>1</td><td>ewa</td><td>2</td><td>30 C</td><td>0.2595</td><td>0.185 </td><td>1</td><td>6</td><td>IV</td></tr>\n",
       "</tbody>\n",
       "</table>\n"
      ],
      "text/latex": [
       "A tibble: 6 × 13\n",
       "\\begin{tabular}{lllllllllllll}\n",
       " Date & ID & Species & Weight difference (g) & Run & Lanai side & Treatment & Temperature (C) & Initial weight (g) & Final weight (g) & Plant ID & RLC order & Lunar phase\\\\\n",
       " <chr> & <chr> & <chr> & <chr> & <chr> & <chr> & <chr> & <chr> & <chr> & <chr> & <chr> & <chr> & <chr>\\\\\n",
       "\\hline\n",
       "\t 9/28/21 & Hm1-1 & Hm & 0.0466  & 1 & ewa & 1 & 30 C & 0.2879 & 0.3345 & 1 & 6 & IV\\\\\n",
       "\t 9/28/21 & Hm1-2 & Hm & 0.1107  & 1 & ewa & 2 & 30 C & 0.2773 & 0.388  & 1 & 6 & IV\\\\\n",
       "\t 9/28/21 & Hm1-3 & Hm & 0.0968  & 1 & ewa & 3 & 30 C & 0.2848 & 0.3816 & 1 & 6 & IV\\\\\n",
       "\t 9/28/21 & Hm1-4 & Hm & 0.08    & 1 & ewa & 4 & 30 C & 0.2477 & 0.3277 & 1 & 6 & IV\\\\\n",
       "\t 9/28/21 & Ul1-1 & Ul & -0.0287 & 1 & ewa & 1 & 30 C & 0.2705 & 0.2418 & 1 & 6 & IV\\\\\n",
       "\t 9/28/21 & Ul1-2 & Ul & -0.0745 & 1 & ewa & 2 & 30 C & 0.2595 & 0.185  & 1 & 6 & IV\\\\\n",
       "\\end{tabular}\n"
      ],
      "text/markdown": [
       "\n",
       "A tibble: 6 × 13\n",
       "\n",
       "| Date &lt;chr&gt; | ID &lt;chr&gt; | Species &lt;chr&gt; | Weight difference (g) &lt;chr&gt; | Run &lt;chr&gt; | Lanai side &lt;chr&gt; | Treatment &lt;chr&gt; | Temperature (C) &lt;chr&gt; | Initial weight (g) &lt;chr&gt; | Final weight (g) &lt;chr&gt; | Plant ID &lt;chr&gt; | RLC order &lt;chr&gt; | Lunar phase &lt;chr&gt; |\n",
       "|---|---|---|---|---|---|---|---|---|---|---|---|---|\n",
       "| 9/28/21 | Hm1-1 | Hm | 0.0466  | 1 | ewa | 1 | 30 C | 0.2879 | 0.3345 | 1 | 6 | IV |\n",
       "| 9/28/21 | Hm1-2 | Hm | 0.1107  | 1 | ewa | 2 | 30 C | 0.2773 | 0.388  | 1 | 6 | IV |\n",
       "| 9/28/21 | Hm1-3 | Hm | 0.0968  | 1 | ewa | 3 | 30 C | 0.2848 | 0.3816 | 1 | 6 | IV |\n",
       "| 9/28/21 | Hm1-4 | Hm | 0.08    | 1 | ewa | 4 | 30 C | 0.2477 | 0.3277 | 1 | 6 | IV |\n",
       "| 9/28/21 | Ul1-1 | Ul | -0.0287 | 1 | ewa | 1 | 30 C | 0.2705 | 0.2418 | 1 | 6 | IV |\n",
       "| 9/28/21 | Ul1-2 | Ul | -0.0745 | 1 | ewa | 2 | 30 C | 0.2595 | 0.185  | 1 | 6 | IV |\n",
       "\n"
      ],
      "text/plain": [
       "  Date    ID    Species Weight difference (g) Run Lanai side Treatment\n",
       "1 9/28/21 Hm1-1 Hm      0.0466                1   ewa        1        \n",
       "2 9/28/21 Hm1-2 Hm      0.1107                1   ewa        2        \n",
       "3 9/28/21 Hm1-3 Hm      0.0968                1   ewa        3        \n",
       "4 9/28/21 Hm1-4 Hm      0.08                  1   ewa        4        \n",
       "5 9/28/21 Ul1-1 Ul      -0.0287               1   ewa        1        \n",
       "6 9/28/21 Ul1-2 Ul      -0.0745               1   ewa        2        \n",
       "  Temperature (C) Initial weight (g) Final weight (g) Plant ID RLC order\n",
       "1 30 C            0.2879             0.3345           1        6        \n",
       "2 30 C            0.2773             0.388            1        6        \n",
       "3 30 C            0.2848             0.3816           1        6        \n",
       "4 30 C            0.2477             0.3277           1        6        \n",
       "5 30 C            0.2705             0.2418           1        6        \n",
       "6 30 C            0.2595             0.185            1        6        \n",
       "  Lunar phase\n",
       "1 IV         \n",
       "2 IV         \n",
       "3 IV         \n",
       "4 IV         \n",
       "5 IV         \n",
       "6 IV         "
      ]
     },
     "metadata": {},
     "output_type": "display_data"
    }
   ],
   "source": [
    "head(rawgrowth)"
   ]
  },
  {
   "cell_type": "markdown",
   "id": "7a2621aa",
   "metadata": {},
   "source": [
    "#### Remove unnecessary variable for data analysis"
   ]
  },
  {
   "cell_type": "code",
   "execution_count": 98,
   "id": "0f9756a3",
   "metadata": {},
   "outputs": [],
   "source": [
    "rawgrowth$Date <- NULL"
   ]
  },
  {
   "cell_type": "code",
   "execution_count": 99,
   "id": "0bc7e91b",
   "metadata": {},
   "outputs": [],
   "source": [
    "rawgrowth$ID <- NULL"
   ]
  },
  {
   "cell_type": "code",
   "execution_count": 100,
   "id": "2d31dd54",
   "metadata": {},
   "outputs": [],
   "source": [
    "rawgrowth$Run <- NULL"
   ]
  },
  {
   "cell_type": "code",
   "execution_count": 101,
   "id": "0ab77bcd",
   "metadata": {},
   "outputs": [],
   "source": [
    "rawgrowth$'Plant ID' <- NULL"
   ]
  },
  {
   "cell_type": "code",
   "execution_count": 102,
   "id": "951831d5",
   "metadata": {},
   "outputs": [],
   "source": [
    "rawgrowth$'Lanai side' <- NULL"
   ]
  },
  {
   "cell_type": "code",
   "execution_count": 103,
   "id": "563e42bd",
   "metadata": {},
   "outputs": [],
   "source": [
    "rawgrowth$'RLC order' <- NULL"
   ]
  },
  {
   "cell_type": "code",
   "execution_count": 104,
   "id": "78f6bc84",
   "metadata": {},
   "outputs": [
    {
     "data": {
      "text/html": [
       "<table class=\"dataframe\">\n",
       "<caption>A tibble: 6 × 7</caption>\n",
       "<thead>\n",
       "\t<tr><th scope=col>Species</th><th scope=col>Weight difference (g)</th><th scope=col>Treatment</th><th scope=col>Temperature (C)</th><th scope=col>Initial weight (g)</th><th scope=col>Final weight (g)</th><th scope=col>Lunar phase</th></tr>\n",
       "\t<tr><th scope=col>&lt;chr&gt;</th><th scope=col>&lt;chr&gt;</th><th scope=col>&lt;chr&gt;</th><th scope=col>&lt;chr&gt;</th><th scope=col>&lt;chr&gt;</th><th scope=col>&lt;chr&gt;</th><th scope=col>&lt;chr&gt;</th></tr>\n",
       "</thead>\n",
       "<tbody>\n",
       "\t<tr><td>Hm</td><td>0.0466 </td><td>1</td><td>30 C</td><td>0.2879</td><td>0.3345</td><td>IV</td></tr>\n",
       "\t<tr><td>Hm</td><td>0.1107 </td><td>2</td><td>30 C</td><td>0.2773</td><td>0.388 </td><td>IV</td></tr>\n",
       "\t<tr><td>Hm</td><td>0.0968 </td><td>3</td><td>30 C</td><td>0.2848</td><td>0.3816</td><td>IV</td></tr>\n",
       "\t<tr><td>Hm</td><td>0.08   </td><td>4</td><td>30 C</td><td>0.2477</td><td>0.3277</td><td>IV</td></tr>\n",
       "\t<tr><td>Ul</td><td>-0.0287</td><td>1</td><td>30 C</td><td>0.2705</td><td>0.2418</td><td>IV</td></tr>\n",
       "\t<tr><td>Ul</td><td>-0.0745</td><td>2</td><td>30 C</td><td>0.2595</td><td>0.185 </td><td>IV</td></tr>\n",
       "</tbody>\n",
       "</table>\n"
      ],
      "text/latex": [
       "A tibble: 6 × 7\n",
       "\\begin{tabular}{lllllll}\n",
       " Species & Weight difference (g) & Treatment & Temperature (C) & Initial weight (g) & Final weight (g) & Lunar phase\\\\\n",
       " <chr> & <chr> & <chr> & <chr> & <chr> & <chr> & <chr>\\\\\n",
       "\\hline\n",
       "\t Hm & 0.0466  & 1 & 30 C & 0.2879 & 0.3345 & IV\\\\\n",
       "\t Hm & 0.1107  & 2 & 30 C & 0.2773 & 0.388  & IV\\\\\n",
       "\t Hm & 0.0968  & 3 & 30 C & 0.2848 & 0.3816 & IV\\\\\n",
       "\t Hm & 0.08    & 4 & 30 C & 0.2477 & 0.3277 & IV\\\\\n",
       "\t Ul & -0.0287 & 1 & 30 C & 0.2705 & 0.2418 & IV\\\\\n",
       "\t Ul & -0.0745 & 2 & 30 C & 0.2595 & 0.185  & IV\\\\\n",
       "\\end{tabular}\n"
      ],
      "text/markdown": [
       "\n",
       "A tibble: 6 × 7\n",
       "\n",
       "| Species &lt;chr&gt; | Weight difference (g) &lt;chr&gt; | Treatment &lt;chr&gt; | Temperature (C) &lt;chr&gt; | Initial weight (g) &lt;chr&gt; | Final weight (g) &lt;chr&gt; | Lunar phase &lt;chr&gt; |\n",
       "|---|---|---|---|---|---|---|\n",
       "| Hm | 0.0466  | 1 | 30 C | 0.2879 | 0.3345 | IV |\n",
       "| Hm | 0.1107  | 2 | 30 C | 0.2773 | 0.388  | IV |\n",
       "| Hm | 0.0968  | 3 | 30 C | 0.2848 | 0.3816 | IV |\n",
       "| Hm | 0.08    | 4 | 30 C | 0.2477 | 0.3277 | IV |\n",
       "| Ul | -0.0287 | 1 | 30 C | 0.2705 | 0.2418 | IV |\n",
       "| Ul | -0.0745 | 2 | 30 C | 0.2595 | 0.185  | IV |\n",
       "\n"
      ],
      "text/plain": [
       "  Species Weight difference (g) Treatment Temperature (C) Initial weight (g)\n",
       "1 Hm      0.0466                1         30 C            0.2879            \n",
       "2 Hm      0.1107                2         30 C            0.2773            \n",
       "3 Hm      0.0968                3         30 C            0.2848            \n",
       "4 Hm      0.08                  4         30 C            0.2477            \n",
       "5 Ul      -0.0287               1         30 C            0.2705            \n",
       "6 Ul      -0.0745               2         30 C            0.2595            \n",
       "  Final weight (g) Lunar phase\n",
       "1 0.3345           IV         \n",
       "2 0.388            IV         \n",
       "3 0.3816           IV         \n",
       "4 0.3277           IV         \n",
       "5 0.2418           IV         \n",
       "6 0.185            IV         "
      ]
     },
     "metadata": {},
     "output_type": "display_data"
    }
   ],
   "source": [
    "head(rawgrowth)"
   ]
  },
  {
   "cell_type": "markdown",
   "id": "07f1d64a",
   "metadata": {},
   "source": [
    "#### Reorder table"
   ]
  },
  {
   "cell_type": "code",
   "execution_count": 105,
   "id": "513e2a38",
   "metadata": {},
   "outputs": [],
   "source": [
    "growthdata <- rawgrowth[,c(\"Species\", \"Treatment\", \"Temperature (C)\", \"Initial weight (g)\",\n",
    "                           \"Final weight (g)\", \"Weight difference (g)\", \"Lunar phase\")]"
   ]
  },
  {
   "cell_type": "code",
   "execution_count": 106,
   "id": "52d6c387",
   "metadata": {
    "scrolled": false
   },
   "outputs": [
    {
     "data": {
      "text/html": [
       "<table class=\"dataframe\">\n",
       "<caption>A tibble: 6 × 7</caption>\n",
       "<thead>\n",
       "\t<tr><th scope=col>Species</th><th scope=col>Treatment</th><th scope=col>Temperature (C)</th><th scope=col>Initial weight (g)</th><th scope=col>Final weight (g)</th><th scope=col>Weight difference (g)</th><th scope=col>Lunar phase</th></tr>\n",
       "\t<tr><th scope=col>&lt;chr&gt;</th><th scope=col>&lt;chr&gt;</th><th scope=col>&lt;chr&gt;</th><th scope=col>&lt;chr&gt;</th><th scope=col>&lt;chr&gt;</th><th scope=col>&lt;chr&gt;</th><th scope=col>&lt;chr&gt;</th></tr>\n",
       "</thead>\n",
       "<tbody>\n",
       "\t<tr><td>Hm</td><td>1</td><td>30 C</td><td>0.2879</td><td>0.3345</td><td>0.0466 </td><td>IV</td></tr>\n",
       "\t<tr><td>Hm</td><td>2</td><td>30 C</td><td>0.2773</td><td>0.388 </td><td>0.1107 </td><td>IV</td></tr>\n",
       "\t<tr><td>Hm</td><td>3</td><td>30 C</td><td>0.2848</td><td>0.3816</td><td>0.0968 </td><td>IV</td></tr>\n",
       "\t<tr><td>Hm</td><td>4</td><td>30 C</td><td>0.2477</td><td>0.3277</td><td>0.08   </td><td>IV</td></tr>\n",
       "\t<tr><td>Ul</td><td>1</td><td>30 C</td><td>0.2705</td><td>0.2418</td><td>-0.0287</td><td>IV</td></tr>\n",
       "\t<tr><td>Ul</td><td>2</td><td>30 C</td><td>0.2595</td><td>0.185 </td><td>-0.0745</td><td>IV</td></tr>\n",
       "</tbody>\n",
       "</table>\n"
      ],
      "text/latex": [
       "A tibble: 6 × 7\n",
       "\\begin{tabular}{lllllll}\n",
       " Species & Treatment & Temperature (C) & Initial weight (g) & Final weight (g) & Weight difference (g) & Lunar phase\\\\\n",
       " <chr> & <chr> & <chr> & <chr> & <chr> & <chr> & <chr>\\\\\n",
       "\\hline\n",
       "\t Hm & 1 & 30 C & 0.2879 & 0.3345 & 0.0466  & IV\\\\\n",
       "\t Hm & 2 & 30 C & 0.2773 & 0.388  & 0.1107  & IV\\\\\n",
       "\t Hm & 3 & 30 C & 0.2848 & 0.3816 & 0.0968  & IV\\\\\n",
       "\t Hm & 4 & 30 C & 0.2477 & 0.3277 & 0.08    & IV\\\\\n",
       "\t Ul & 1 & 30 C & 0.2705 & 0.2418 & -0.0287 & IV\\\\\n",
       "\t Ul & 2 & 30 C & 0.2595 & 0.185  & -0.0745 & IV\\\\\n",
       "\\end{tabular}\n"
      ],
      "text/markdown": [
       "\n",
       "A tibble: 6 × 7\n",
       "\n",
       "| Species &lt;chr&gt; | Treatment &lt;chr&gt; | Temperature (C) &lt;chr&gt; | Initial weight (g) &lt;chr&gt; | Final weight (g) &lt;chr&gt; | Weight difference (g) &lt;chr&gt; | Lunar phase &lt;chr&gt; |\n",
       "|---|---|---|---|---|---|---|\n",
       "| Hm | 1 | 30 C | 0.2879 | 0.3345 | 0.0466  | IV |\n",
       "| Hm | 2 | 30 C | 0.2773 | 0.388  | 0.1107  | IV |\n",
       "| Hm | 3 | 30 C | 0.2848 | 0.3816 | 0.0968  | IV |\n",
       "| Hm | 4 | 30 C | 0.2477 | 0.3277 | 0.08    | IV |\n",
       "| Ul | 1 | 30 C | 0.2705 | 0.2418 | -0.0287 | IV |\n",
       "| Ul | 2 | 30 C | 0.2595 | 0.185  | -0.0745 | IV |\n",
       "\n"
      ],
      "text/plain": [
       "  Species Treatment Temperature (C) Initial weight (g) Final weight (g)\n",
       "1 Hm      1         30 C            0.2879             0.3345          \n",
       "2 Hm      2         30 C            0.2773             0.388           \n",
       "3 Hm      3         30 C            0.2848             0.3816          \n",
       "4 Hm      4         30 C            0.2477             0.3277          \n",
       "5 Ul      1         30 C            0.2705             0.2418          \n",
       "6 Ul      2         30 C            0.2595             0.185           \n",
       "  Weight difference (g) Lunar phase\n",
       "1 0.0466                IV         \n",
       "2 0.1107                IV         \n",
       "3 0.0968                IV         \n",
       "4 0.08                  IV         \n",
       "5 -0.0287               IV         \n",
       "6 -0.0745               IV         "
      ]
     },
     "metadata": {},
     "output_type": "display_data"
    }
   ],
   "source": [
    "head(growthdata)"
   ]
  },
  {
   "cell_type": "markdown",
   "id": "ea076b6d",
   "metadata": {},
   "source": [
    "#### Make a new column that keeps only the numerical values (effectively removes the C in temperatures for consistency)"
   ]
  },
  {
   "cell_type": "code",
   "execution_count": 107,
   "id": "2743823b",
   "metadata": {},
   "outputs": [],
   "source": [
    "growthdata$'Temperature (C)' <- as.factor(substr(growthdata$'Temperature (C)', 1, 2))"
   ]
  },
  {
   "cell_type": "code",
   "execution_count": 108,
   "id": "42227824",
   "metadata": {
    "scrolled": true
   },
   "outputs": [
    {
     "data": {
      "text/html": [
       "<table class=\"dataframe\">\n",
       "<caption>A tibble: 6 × 7</caption>\n",
       "<thead>\n",
       "\t<tr><th scope=col>Species</th><th scope=col>Treatment</th><th scope=col>Temperature (C)</th><th scope=col>Initial weight (g)</th><th scope=col>Final weight (g)</th><th scope=col>Weight difference (g)</th><th scope=col>Lunar phase</th></tr>\n",
       "\t<tr><th scope=col>&lt;chr&gt;</th><th scope=col>&lt;chr&gt;</th><th scope=col>&lt;fct&gt;</th><th scope=col>&lt;chr&gt;</th><th scope=col>&lt;chr&gt;</th><th scope=col>&lt;chr&gt;</th><th scope=col>&lt;chr&gt;</th></tr>\n",
       "</thead>\n",
       "<tbody>\n",
       "\t<tr><td>Hm</td><td>1</td><td>30</td><td>0.2879</td><td>0.3345</td><td>0.0466 </td><td>IV</td></tr>\n",
       "\t<tr><td>Hm</td><td>2</td><td>30</td><td>0.2773</td><td>0.388 </td><td>0.1107 </td><td>IV</td></tr>\n",
       "\t<tr><td>Hm</td><td>3</td><td>30</td><td>0.2848</td><td>0.3816</td><td>0.0968 </td><td>IV</td></tr>\n",
       "\t<tr><td>Hm</td><td>4</td><td>30</td><td>0.2477</td><td>0.3277</td><td>0.08   </td><td>IV</td></tr>\n",
       "\t<tr><td>Ul</td><td>1</td><td>30</td><td>0.2705</td><td>0.2418</td><td>-0.0287</td><td>IV</td></tr>\n",
       "\t<tr><td>Ul</td><td>2</td><td>30</td><td>0.2595</td><td>0.185 </td><td>-0.0745</td><td>IV</td></tr>\n",
       "</tbody>\n",
       "</table>\n"
      ],
      "text/latex": [
       "A tibble: 6 × 7\n",
       "\\begin{tabular}{lllllll}\n",
       " Species & Treatment & Temperature (C) & Initial weight (g) & Final weight (g) & Weight difference (g) & Lunar phase\\\\\n",
       " <chr> & <chr> & <fct> & <chr> & <chr> & <chr> & <chr>\\\\\n",
       "\\hline\n",
       "\t Hm & 1 & 30 & 0.2879 & 0.3345 & 0.0466  & IV\\\\\n",
       "\t Hm & 2 & 30 & 0.2773 & 0.388  & 0.1107  & IV\\\\\n",
       "\t Hm & 3 & 30 & 0.2848 & 0.3816 & 0.0968  & IV\\\\\n",
       "\t Hm & 4 & 30 & 0.2477 & 0.3277 & 0.08    & IV\\\\\n",
       "\t Ul & 1 & 30 & 0.2705 & 0.2418 & -0.0287 & IV\\\\\n",
       "\t Ul & 2 & 30 & 0.2595 & 0.185  & -0.0745 & IV\\\\\n",
       "\\end{tabular}\n"
      ],
      "text/markdown": [
       "\n",
       "A tibble: 6 × 7\n",
       "\n",
       "| Species &lt;chr&gt; | Treatment &lt;chr&gt; | Temperature (C) &lt;fct&gt; | Initial weight (g) &lt;chr&gt; | Final weight (g) &lt;chr&gt; | Weight difference (g) &lt;chr&gt; | Lunar phase &lt;chr&gt; |\n",
       "|---|---|---|---|---|---|---|\n",
       "| Hm | 1 | 30 | 0.2879 | 0.3345 | 0.0466  | IV |\n",
       "| Hm | 2 | 30 | 0.2773 | 0.388  | 0.1107  | IV |\n",
       "| Hm | 3 | 30 | 0.2848 | 0.3816 | 0.0968  | IV |\n",
       "| Hm | 4 | 30 | 0.2477 | 0.3277 | 0.08    | IV |\n",
       "| Ul | 1 | 30 | 0.2705 | 0.2418 | -0.0287 | IV |\n",
       "| Ul | 2 | 30 | 0.2595 | 0.185  | -0.0745 | IV |\n",
       "\n"
      ],
      "text/plain": [
       "  Species Treatment Temperature (C) Initial weight (g) Final weight (g)\n",
       "1 Hm      1         30              0.2879             0.3345          \n",
       "2 Hm      2         30              0.2773             0.388           \n",
       "3 Hm      3         30              0.2848             0.3816          \n",
       "4 Hm      4         30              0.2477             0.3277          \n",
       "5 Ul      1         30              0.2705             0.2418          \n",
       "6 Ul      2         30              0.2595             0.185           \n",
       "  Weight difference (g) Lunar phase\n",
       "1 0.0466                IV         \n",
       "2 0.1107                IV         \n",
       "3 0.0968                IV         \n",
       "4 0.08                  IV         \n",
       "5 -0.0287               IV         \n",
       "6 -0.0745               IV         "
      ]
     },
     "metadata": {},
     "output_type": "display_data"
    }
   ],
   "source": [
    "head(growthdata)"
   ]
  },
  {
   "cell_type": "markdown",
   "id": "680aab50",
   "metadata": {},
   "source": [
    "#### Convert treatment to factors from characters"
   ]
  },
  {
   "cell_type": "code",
   "execution_count": 109,
   "id": "b1f2cea9",
   "metadata": {},
   "outputs": [],
   "source": [
    "growthdata$Treatment <- as.factor(as.character(growthdata$Treatment))"
   ]
  },
  {
   "cell_type": "markdown",
   "id": "96358aaa",
   "metadata": {},
   "source": [
    "#### Convert lunar phase to factors from characters"
   ]
  },
  {
   "cell_type": "code",
   "execution_count": 110,
   "id": "c628a13e",
   "metadata": {},
   "outputs": [],
   "source": [
    "growthdata$'Lunar phase' <- as.factor(as.character(growthdata$'Lunar phase'))"
   ]
  },
  {
   "cell_type": "markdown",
   "id": "58239f3c",
   "metadata": {},
   "source": [
    "#### Convert Initial and Final Weight to factors from characters"
   ]
  },
  {
   "cell_type": "code",
   "execution_count": 111,
   "id": "cfe70a47",
   "metadata": {},
   "outputs": [],
   "source": [
    "growthdata$'Initial weight (g)' <- as.double(as.character(growthdata$'Initial weight (g)'))\n",
    "growthdata$'Final weight (g)' <- as.double(as.character(growthdata$'Final weight (g)'))"
   ]
  },
  {
   "cell_type": "markdown",
   "id": "77bc152c",
   "metadata": {},
   "source": [
    "#### Calculate Weight Difference column to fill in for missing points"
   ]
  },
  {
   "cell_type": "code",
   "execution_count": 112,
   "id": "f480f352",
   "metadata": {},
   "outputs": [],
   "source": [
    "growthdata$'Weight Differences (g)' <- growthdata$'Final weight (g)' - growthdata$'Initial weight (g)'"
   ]
  },
  {
   "cell_type": "code",
   "execution_count": 113,
   "id": "3e0e327b",
   "metadata": {},
   "outputs": [],
   "source": [
    "growthdata$'Weight difference (g)' <- NULL"
   ]
  },
  {
   "cell_type": "markdown",
   "id": "283bab92",
   "metadata": {},
   "source": [
    "#### Assign species names from the abbreviations"
   ]
  },
  {
   "cell_type": "code",
   "execution_count": 114,
   "id": "2f2de8a5",
   "metadata": {},
   "outputs": [],
   "source": [
    "growthdata$'Species'[growthdata$Species == \"Hm\"] <- \"Hypnea\"\n",
    "growthdata$'Species'[growthdata$Species == \"Ul\"] <- \"Ulva\""
   ]
  },
  {
   "cell_type": "markdown",
   "id": "e6ba95b7",
   "metadata": {},
   "source": [
    "#### Make a new column for percent growth (divide initial from weight difference and multiply by 100)"
   ]
  },
  {
   "cell_type": "code",
   "execution_count": 115,
   "id": "060c7336",
   "metadata": {},
   "outputs": [],
   "source": [
    "growthdata$'Percent Growth (%)' <- ((growthdata$'Weight Differences (g)' / growthdata$'Initial weight (g)') * 100) "
   ]
  },
  {
   "cell_type": "code",
   "execution_count": 116,
   "id": "b7cf4d66",
   "metadata": {
    "scrolled": true
   },
   "outputs": [
    {
     "data": {
      "text/html": [
       "<table class=\"dataframe\">\n",
       "<caption>A tibble: 6 × 8</caption>\n",
       "<thead>\n",
       "\t<tr><th scope=col>Species</th><th scope=col>Treatment</th><th scope=col>Temperature (C)</th><th scope=col>Initial weight (g)</th><th scope=col>Final weight (g)</th><th scope=col>Lunar phase</th><th scope=col>Weight Differences (g)</th><th scope=col>Percent Growth (%)</th></tr>\n",
       "\t<tr><th scope=col>&lt;chr&gt;</th><th scope=col>&lt;fct&gt;</th><th scope=col>&lt;fct&gt;</th><th scope=col>&lt;dbl&gt;</th><th scope=col>&lt;dbl&gt;</th><th scope=col>&lt;fct&gt;</th><th scope=col>&lt;dbl&gt;</th><th scope=col>&lt;dbl&gt;</th></tr>\n",
       "</thead>\n",
       "<tbody>\n",
       "\t<tr><td>Hypnea</td><td>1</td><td>30</td><td>0.2879</td><td>0.3345</td><td>IV</td><td> 0.0466</td><td> 16.18618</td></tr>\n",
       "\t<tr><td>Hypnea</td><td>2</td><td>30</td><td>0.2773</td><td>0.3880</td><td>IV</td><td> 0.1107</td><td> 39.92066</td></tr>\n",
       "\t<tr><td>Hypnea</td><td>3</td><td>30</td><td>0.2848</td><td>0.3816</td><td>IV</td><td> 0.0968</td><td> 33.98876</td></tr>\n",
       "\t<tr><td>Hypnea</td><td>4</td><td>30</td><td>0.2477</td><td>0.3277</td><td>IV</td><td> 0.0800</td><td> 32.29713</td></tr>\n",
       "\t<tr><td>Ulva  </td><td>1</td><td>30</td><td>0.2705</td><td>0.2418</td><td>IV</td><td>-0.0287</td><td>-10.60998</td></tr>\n",
       "\t<tr><td>Ulva  </td><td>2</td><td>30</td><td>0.2595</td><td>0.1850</td><td>IV</td><td>-0.0745</td><td>-28.70906</td></tr>\n",
       "</tbody>\n",
       "</table>\n"
      ],
      "text/latex": [
       "A tibble: 6 × 8\n",
       "\\begin{tabular}{llllllll}\n",
       " Species & Treatment & Temperature (C) & Initial weight (g) & Final weight (g) & Lunar phase & Weight Differences (g) & Percent Growth (\\%)\\\\\n",
       " <chr> & <fct> & <fct> & <dbl> & <dbl> & <fct> & <dbl> & <dbl>\\\\\n",
       "\\hline\n",
       "\t Hypnea & 1 & 30 & 0.2879 & 0.3345 & IV &  0.0466 &  16.18618\\\\\n",
       "\t Hypnea & 2 & 30 & 0.2773 & 0.3880 & IV &  0.1107 &  39.92066\\\\\n",
       "\t Hypnea & 3 & 30 & 0.2848 & 0.3816 & IV &  0.0968 &  33.98876\\\\\n",
       "\t Hypnea & 4 & 30 & 0.2477 & 0.3277 & IV &  0.0800 &  32.29713\\\\\n",
       "\t Ulva   & 1 & 30 & 0.2705 & 0.2418 & IV & -0.0287 & -10.60998\\\\\n",
       "\t Ulva   & 2 & 30 & 0.2595 & 0.1850 & IV & -0.0745 & -28.70906\\\\\n",
       "\\end{tabular}\n"
      ],
      "text/markdown": [
       "\n",
       "A tibble: 6 × 8\n",
       "\n",
       "| Species &lt;chr&gt; | Treatment &lt;fct&gt; | Temperature (C) &lt;fct&gt; | Initial weight (g) &lt;dbl&gt; | Final weight (g) &lt;dbl&gt; | Lunar phase &lt;fct&gt; | Weight Differences (g) &lt;dbl&gt; | Percent Growth (%) &lt;dbl&gt; |\n",
       "|---|---|---|---|---|---|---|---|\n",
       "| Hypnea | 1 | 30 | 0.2879 | 0.3345 | IV |  0.0466 |  16.18618 |\n",
       "| Hypnea | 2 | 30 | 0.2773 | 0.3880 | IV |  0.1107 |  39.92066 |\n",
       "| Hypnea | 3 | 30 | 0.2848 | 0.3816 | IV |  0.0968 |  33.98876 |\n",
       "| Hypnea | 4 | 30 | 0.2477 | 0.3277 | IV |  0.0800 |  32.29713 |\n",
       "| Ulva   | 1 | 30 | 0.2705 | 0.2418 | IV | -0.0287 | -10.60998 |\n",
       "| Ulva   | 2 | 30 | 0.2595 | 0.1850 | IV | -0.0745 | -28.70906 |\n",
       "\n"
      ],
      "text/plain": [
       "  Species Treatment Temperature (C) Initial weight (g) Final weight (g)\n",
       "1 Hypnea  1         30              0.2879             0.3345          \n",
       "2 Hypnea  2         30              0.2773             0.3880          \n",
       "3 Hypnea  3         30              0.2848             0.3816          \n",
       "4 Hypnea  4         30              0.2477             0.3277          \n",
       "5 Ulva    1         30              0.2705             0.2418          \n",
       "6 Ulva    2         30              0.2595             0.1850          \n",
       "  Lunar phase Weight Differences (g) Percent Growth (%)\n",
       "1 IV           0.0466                 16.18618         \n",
       "2 IV           0.1107                 39.92066         \n",
       "3 IV           0.0968                 33.98876         \n",
       "4 IV           0.0800                 32.29713         \n",
       "5 IV          -0.0287                -10.60998         \n",
       "6 IV          -0.0745                -28.70906         "
      ]
     },
     "metadata": {},
     "output_type": "display_data"
    }
   ],
   "source": [
    "head(growthdata)"
   ]
  },
  {
   "cell_type": "markdown",
   "id": "8cd10e0d",
   "metadata": {},
   "source": [
    "#### Convert Species to factors from characters"
   ]
  },
  {
   "cell_type": "code",
   "execution_count": 117,
   "id": "807d9175",
   "metadata": {},
   "outputs": [],
   "source": [
    "growthdata$Species <- as.factor(as.character(growthdata$Species))"
   ]
  },
  {
   "cell_type": "markdown",
   "id": "7f290467",
   "metadata": {},
   "source": [
    "## Exploratory Data Analysis"
   ]
  },
  {
   "cell_type": "markdown",
   "id": "045de053",
   "metadata": {},
   "source": [
    "### Make a scatterplot with fitted line for percents growth by treatment"
   ]
  },
  {
   "cell_type": "code",
   "execution_count": 118,
   "id": "85742265",
   "metadata": {},
   "outputs": [],
   "source": [
    "t_sp <- ggplot(growthdata, aes(x = `Initial weight (g)`, y = `Final weight (g)`)) +\n",
    "    geom_point(aes(color = factor(Species))) +\n",
    "    facet_wrap( ~ Treatment, ncol=2) +\n",
    "    labs(\n",
    "        title = \"Total Weight Difference (g) Between Treatments\",\n",
    "        x = \"Inital weight (g)\",\n",
    "        y = \"Final weight (g)\",\n",
    "        color = \"Species\") + \n",
    "    stat_smooth(method = \"lm\",\n",
    "        col = \"#C42126\",\n",
    "        se = FALSE,\n",
    "        size = 1)"
   ]
  },
  {
   "cell_type": "code",
   "execution_count": 119,
   "id": "d63b9ae1",
   "metadata": {},
   "outputs": [
    {
     "name": "stderr",
     "output_type": "stream",
     "text": [
      "`geom_smooth()` using formula 'y ~ x'\n",
      "\n"
     ]
    },
    {
     "data": {
      "image/png": "[encoded data removed]",
      "text/plain": [
       "plot without title"
      ]
     },
     "metadata": {
      "image/png": {
       "height": 420,
       "width": 420
      }
     },
     "output_type": "display_data"
    }
   ],
   "source": [
    "fixt_sp <- t_sp +\n",
    "    theme(text = element_text(size = 16))\n",
    "fixt_sp"
   ]
  },
  {
   "cell_type": "markdown",
   "id": "31ad2717",
   "metadata": {},
   "source": [
    "## Make a grouped barchart"
   ]
  },
  {
   "cell_type": "markdown",
   "id": "8481a2d5",
   "metadata": {},
   "source": [
    "#### Subset each treatment"
   ]
  },
  {
   "cell_type": "code",
   "execution_count": 120,
   "id": "a4119bed",
   "metadata": {},
   "outputs": [],
   "source": [
    "t0sub <- subset(growthdata, Treatment==0)\n",
    "t1sub <- subset(growthdata, Treatment==1)\n",
    "t2sub <- subset(growthdata, Treatment==2)\n",
    "t3sub <- subset(growthdata, Treatment==3)\n",
    "t4sub <- subset(growthdata, Treatment==4)\n",
    "t2_5sub <- subset(growthdata, Treatment==2.5)"
   ]
  },
  {
   "cell_type": "markdown",
   "id": "04518c3b",
   "metadata": {},
   "source": [
    "#### Calculate mean from each treatment by species"
   ]
  },
  {
   "cell_type": "code",
   "execution_count": 121,
   "id": "1efcf69c",
   "metadata": {},
   "outputs": [],
   "source": [
    "t0avg <- aggregate(t0sub$'Percent Growth (%)', list(t0sub$Species), FUN=mean)\n",
    "t1avg <- aggregate(t1sub$'Percent Growth (%)', list(t1sub$Species), FUN=mean)\n",
    "t2avg <- aggregate(t2sub$'Percent Growth (%)', list(t2sub$Species), FUN=mean)\n",
    "t3avg <- aggregate(t3sub$'Percent Growth (%)', list(t3sub$Species), FUN=mean)\n",
    "t4avg <- aggregate(t4sub$'Percent Growth (%)', list(t4sub$Species), FUN=mean)\n",
    "t2_5avg <- aggregate(t2_5sub$'Percent Growth (%)', list(t2_5sub$Species), FUN=mean)"
   ]
  },
  {
   "cell_type": "markdown",
   "id": "26776bff",
   "metadata": {},
   "source": [
    "#### Combine all percent growth averages into new table"
   ]
  },
  {
   "cell_type": "code",
   "execution_count": 122,
   "id": "aa9f8096",
   "metadata": {},
   "outputs": [],
   "source": [
    "avg_spgrowth <- rbind(t0avg, t1avg, t2avg, t3avg, t4avg, t2_5avg)"
   ]
  },
  {
   "cell_type": "code",
   "execution_count": 123,
   "id": "5971c1f8",
   "metadata": {},
   "outputs": [
    {
     "data": {
      "text/html": [
       "<table class=\"dataframe\">\n",
       "<caption>A data.frame: 6 × 2</caption>\n",
       "<thead>\n",
       "\t<tr><th></th><th scope=col>Group.1</th><th scope=col>x</th></tr>\n",
       "\t<tr><th></th><th scope=col>&lt;fct&gt;</th><th scope=col>&lt;dbl&gt;</th></tr>\n",
       "</thead>\n",
       "<tbody>\n",
       "\t<tr><th scope=row>1</th><td>Hypnea</td><td>18.236652</td></tr>\n",
       "\t<tr><th scope=row>2</th><td>Ulva  </td><td> 4.457724</td></tr>\n",
       "\t<tr><th scope=row>3</th><td>Hypnea</td><td>35.341096</td></tr>\n",
       "\t<tr><th scope=row>4</th><td>Ulva  </td><td>30.580696</td></tr>\n",
       "\t<tr><th scope=row>5</th><td>Hypnea</td><td>19.931004</td></tr>\n",
       "\t<tr><th scope=row>6</th><td>Ulva  </td><td>38.100976</td></tr>\n",
       "</tbody>\n",
       "</table>\n"
      ],
      "text/latex": [
       "A data.frame: 6 × 2\n",
       "\\begin{tabular}{r|ll}\n",
       "  & Group.1 & x\\\\\n",
       "  & <fct> & <dbl>\\\\\n",
       "\\hline\n",
       "\t1 & Hypnea & 18.236652\\\\\n",
       "\t2 & Ulva   &  4.457724\\\\\n",
       "\t3 & Hypnea & 35.341096\\\\\n",
       "\t4 & Ulva   & 30.580696\\\\\n",
       "\t5 & Hypnea & 19.931004\\\\\n",
       "\t6 & Ulva   & 38.100976\\\\\n",
       "\\end{tabular}\n"
      ],
      "text/markdown": [
       "\n",
       "A data.frame: 6 × 2\n",
       "\n",
       "| <!--/--> | Group.1 &lt;fct&gt; | x &lt;dbl&gt; |\n",
       "|---|---|---|\n",
       "| 1 | Hypnea | 18.236652 |\n",
       "| 2 | Ulva   |  4.457724 |\n",
       "| 3 | Hypnea | 35.341096 |\n",
       "| 4 | Ulva   | 30.580696 |\n",
       "| 5 | Hypnea | 19.931004 |\n",
       "| 6 | Ulva   | 38.100976 |\n",
       "\n"
      ],
      "text/plain": [
       "  Group.1 x        \n",
       "1 Hypnea  18.236652\n",
       "2 Ulva     4.457724\n",
       "3 Hypnea  35.341096\n",
       "4 Ulva    30.580696\n",
       "5 Hypnea  19.931004\n",
       "6 Ulva    38.100976"
      ]
     },
     "metadata": {},
     "output_type": "display_data"
    }
   ],
   "source": [
    "head(avg_spgrowth)"
   ]
  },
  {
   "cell_type": "markdown",
   "id": "e90e9247",
   "metadata": {},
   "source": [
    "#### Assign each treatment, respectively"
   ]
  },
  {
   "cell_type": "code",
   "execution_count": 124,
   "id": "f59d6a7c",
   "metadata": {},
   "outputs": [],
   "source": [
    "avg_spgrowth$Treatment <- c(0, 0, 1, 1, 2, 2, 3, 3,\n",
    "                            4, 4, 2.5, 2.5)"
   ]
  },
  {
   "cell_type": "markdown",
   "id": "cdad70e0",
   "metadata": {},
   "source": [
    "### Create barchart for average percent growth (%) by species across 6 treatments "
   ]
  },
  {
   "cell_type": "code",
   "execution_count": 125,
   "id": "d6770429",
   "metadata": {},
   "outputs": [],
   "source": [
    "perc_growthBC <- ggplot(avg_spgrowth, aes(x=Group.1, y=x)) + \n",
    "    geom_bar(position=\"dodge\", stat=\"identity\",aes(fill=factor(Treatment))) +\n",
    "           labs(\n",
    "        title = \"Average Algal Percent Growth Across Treatments\",\n",
    "        x = \"Species\",\n",
    "        y = \"Percent Growth (%)\",\n",
    "        fill = \"Treatment\")  "
   ]
  },
  {
   "cell_type": "code",
   "execution_count": null,
   "id": "e8aa3970",
   "metadata": {
    "scrolled": false
   },
   "outputs": [],
   "source": [
    "fixperc_growthBC <- perc_growthBC +\n",
    "    theme(text = element_text(size = 16))\n",
    "fixperc_growthBC"
   ]
  },
  {
   "cell_type": "markdown",
   "id": "d347efed",
   "metadata": {},
   "source": [
    "### Make a box and whisker plot for percent growth for for each treatment"
   ]
  },
  {
   "cell_type": "markdown",
   "id": "77eb2175",
   "metadata": {},
   "source": [
    "#### Subset each treatment"
   ]
  },
  {
   "cell_type": "code",
   "execution_count": null,
   "id": "798e27a9",
   "metadata": {},
   "outputs": [],
   "source": [
    "b_w_pg <- ggplot(growthdata, aes(x=Species, y=`Percent Growth (%)`, fill=Species)) +\n",
    "    geom_boxplot(outlier.colour=\"black\", outlier.shape=16, outlier.size=2) +\n",
    "    facet_wrap( ~ Treatment, ncol=2) +\n",
    "    labs(\n",
    "        title = \"Growth Rate (%) for all Treatments\",\n",
    "        x = \"Species\",\n",
    "        y = \"Growth Rate (%)\"\n",
    "      )"
   ]
  },
  {
   "cell_type": "code",
   "execution_count": null,
   "id": "a5bbe987",
   "metadata": {},
   "outputs": [],
   "source": [
    "fixb_w_pg <- b_w_pg +\n",
    "    theme(text = element_text(size = 16))\n",
    "fixb_w_pg"
   ]
  },
  {
   "cell_type": "markdown",
   "id": "1ba027b8",
   "metadata": {},
   "source": [
    "## Statistical Analysis"
   ]
  },
  {
   "cell_type": "markdown",
   "id": "983ed143",
   "metadata": {},
   "source": [
    "#### Subset dataset by species of algae"
   ]
  },
  {
   "cell_type": "code",
   "execution_count": null,
   "id": "05a97fcb",
   "metadata": {},
   "outputs": [],
   "source": [
    "ulv_sub <- subset(growthdata, Species==\"Ulva\")\n",
    "hyp_sub <- subset(growthdata, Species==\"Hypnea\")"
   ]
  },
  {
   "cell_type": "markdown",
   "id": "73527a37",
   "metadata": {},
   "source": [
    "#### Check for equal variances using Bartlettʻs test"
   ]
  },
  {
   "cell_type": "code",
   "execution_count": null,
   "id": "c4a60d83",
   "metadata": {},
   "outputs": [],
   "source": [
    "bartlett.test(`Percent Growth (%)` ~ Treatment, data = ulv_sub)"
   ]
  },
  {
   "cell_type": "markdown",
   "id": "dec3e774",
   "metadata": {},
   "source": [
    "#### P-value is significant (<0.05), therefore we reject the null hypothesis and can run next test"
   ]
  },
  {
   "cell_type": "markdown",
   "id": "aea89ea1",
   "metadata": {},
   "source": [
    "## Run ANOVA"
   ]
  },
  {
   "cell_type": "markdown",
   "id": "ad6dd599",
   "metadata": {},
   "source": [
    "## Do a Tukey (Post hoc) to see if the means of percent growth differ significantly between treatments"
   ]
  },
  {
   "cell_type": "markdown",
   "id": "a04c9969",
   "metadata": {},
   "source": [
    "what is diff on tukey; for every % growth change; the difference is 26 for 1-0 treatments; \n",
    "pairwise comparison across treatments "
   ]
  },
  {
   "cell_type": "code",
   "execution_count": null,
   "id": "95f95059",
   "metadata": {
    "scrolled": false
   },
   "outputs": [],
   "source": [
    "ulv_model <- aov(`Percent Growth (%)` ~ Treatment, data = ulv_sub)\n",
    "summary(ulv_model)\n",
    "TukeyHSD(ulv_model, conf.level = 0.95)"
   ]
  },
  {
   "cell_type": "code",
   "execution_count": null,
   "id": "6e774354",
   "metadata": {},
   "outputs": [],
   "source": [
    "hyp_model <- aov(`Percent Growth (%)` ~ Treatment, data = hyp_sub)\n",
    "summary(hyp_model)\n",
    "TukeyHSD(hyp_model, conf.level = 0.95)"
   ]
  },
  {
   "cell_type": "markdown",
   "id": "882076a3",
   "metadata": {},
   "source": [
    "#### Plot Tukey to visualize confidence intervals"
   ]
  },
  {
   "cell_type": "markdown",
   "id": "f827b900",
   "metadata": {},
   "source": [
    "#### Ulva Tukey plot"
   ]
  },
  {
   "cell_type": "code",
   "execution_count": null,
   "id": "20dad274",
   "metadata": {
    "scrolled": false
   },
   "outputs": [],
   "source": [
    "ulva_tukey <- plot(TukeyHSD(ulv_model, conf.level=.95), las = 2)\n",
    "ulva_tukey"
   ]
  },
  {
   "cell_type": "markdown",
   "id": "d717e4d0",
   "metadata": {},
   "source": [
    "#### Hypnea Tukey plot"
   ]
  },
  {
   "cell_type": "code",
   "execution_count": null,
   "id": "c1d1d7c2",
   "metadata": {
    "scrolled": false
   },
   "outputs": [],
   "source": [
    "hyp_tukey <- plot(TukeyHSD(hyp_model, conf.level=.95), las = 2)\n",
    "hyp_tukey"
   ]
  },
  {
   "cell_type": "markdown",
   "id": "6213064f",
   "metadata": {},
   "source": [
    "## Parallel Slopes Regression Model "
   ]
  },
  {
   "cell_type": "code",
   "execution_count": null,
   "id": "37fda72d",
   "metadata": {},
   "outputs": [],
   "source": [
    "lm_ulv_pg = lm(`Percent Growth (%)` ~ Treatment + 0, ulv_sub)\n",
    "lm_hyp_pg = lm(`Percent Growth (%)` ~ Treatment + 0, hyp_sub)"
   ]
  },
  {
   "cell_type": "markdown",
   "id": "cc50aa5f",
   "metadata": {},
   "source": [
    "#### Summary for Ulva"
   ]
  },
  {
   "cell_type": "code",
   "execution_count": null,
   "id": "04f47223",
   "metadata": {
    "scrolled": true
   },
   "outputs": [],
   "source": [
    "summary(lm_ulv_pg)"
   ]
  },
  {
   "cell_type": "markdown",
   "id": "c7f63425",
   "metadata": {},
   "source": [
    "#### Summary for Hypnea"
   ]
  },
  {
   "cell_type": "code",
   "execution_count": null,
   "id": "bb392dee",
   "metadata": {},
   "outputs": [],
   "source": [
    "summary(lm_hyp_pg)"
   ]
  },
  {
   "cell_type": "markdown",
   "id": "f0d97654",
   "metadata": {},
   "source": [
    "#### Box and Whisker Plot for Ulva"
   ]
  },
  {
   "cell_type": "code",
   "execution_count": null,
   "id": "d6b08a0d",
   "metadata": {
    "scrolled": false
   },
   "outputs": [],
   "source": [
    "bw_ulva <- ggplot(ulv_sub, aes(Treatment, `Percent Growth (%)`)) + \n",
    "  geom_boxplot() + \n",
    "  stat_summary(fun = mean)"
   ]
  },
  {
   "cell_type": "code",
   "execution_count": null,
   "id": "614d13ef",
   "metadata": {
    "scrolled": true
   },
   "outputs": [],
   "source": [
    "fixbw_ulva <- bw_ulva +\n",
    "    theme(text = element_text(size = 16))\n",
    "fixbw_ulva"
   ]
  },
  {
   "cell_type": "markdown",
   "id": "4c76b83a",
   "metadata": {},
   "source": [
    "#### Box and Whisker for Hypnea"
   ]
  },
  {
   "cell_type": "code",
   "execution_count": null,
   "id": "d76e4de6",
   "metadata": {
    "scrolled": true
   },
   "outputs": [],
   "source": [
    "bw_hyp <- ggplot(hyp_sub, aes(Treatment, `Percent Growth (%)`)) + \n",
    "  geom_boxplot() + \n",
    "  stat_summary(fun = mean)"
   ]
  },
  {
   "cell_type": "code",
   "execution_count": null,
   "id": "0306b573",
   "metadata": {},
   "outputs": [],
   "source": [
    "fixbw_hyp <- bw_hyp +\n",
    "    theme(text = element_text(size = 16))\n",
    "fixbw_hyp"
   ]
  },
  {
   "cell_type": "markdown",
   "id": "16d6a12d",
   "metadata": {},
   "source": [
    "## Principal Component Analysis (PCA)"
   ]
  },
  {
   "cell_type": "markdown",
   "id": "d73ab837",
   "metadata": {},
   "source": [
    "#### Use sapply to make ulv_sub numeric"
   ]
  },
  {
   "cell_type": "code",
   "execution_count": null,
   "id": "e2818747",
   "metadata": {},
   "outputs": [],
   "source": [
    "ulv_sub_new <- ulv_sub[sapply(ulv_sub, is.numeric)]"
   ]
  },
  {
   "cell_type": "markdown",
   "id": "20e10d7d",
   "metadata": {},
   "source": [
    "#### Use function prcomp() to calculate the principal components of the ulv_sub\n",
    "#### Specify scale to = TRUE in order for each of the variables to have a mean of 0 and a standard deviation of 1 before calculating the principal components"
   ]
  },
  {
   "cell_type": "code",
   "execution_count": null,
   "id": "927c35a1",
   "metadata": {},
   "outputs": [],
   "source": [
    "ulv_PCA <- prcomp(ulv_sub_new, scale = TRUE)"
   ]
  },
  {
   "cell_type": "code",
   "execution_count": null,
   "id": "740e1b5c",
   "metadata": {},
   "outputs": [],
   "source": [
    "ulv_PCA$rotation <- -1*ulv_PCA$rotation"
   ]
  },
  {
   "cell_type": "code",
   "execution_count": null,
   "id": "11130487",
   "metadata": {},
   "outputs": [],
   "source": [
    "ulv_PCA"
   ]
  },
  {
   "cell_type": "code",
   "execution_count": null,
   "id": "e471ce84",
   "metadata": {},
   "outputs": [],
   "source": [
    "ulv_PCA$x <- -1*ulv_PCA$x"
   ]
  },
  {
   "cell_type": "code",
   "execution_count": null,
   "id": "bd3b89a9",
   "metadata": {},
   "outputs": [],
   "source": [
    "head(ulv_PCA$x)"
   ]
  },
  {
   "cell_type": "code",
   "execution_count": null,
   "id": "dcb38556",
   "metadata": {},
   "outputs": [],
   "source": [
    "biplot(ulv_PCA, scale = 0)"
   ]
  },
  {
   "cell_type": "code",
   "execution_count": null,
   "id": "620d5206",
   "metadata": {
    "scrolled": true
   },
   "outputs": [],
   "source": [
    "head(ulv_sub[order(-ulv_sub$`Percent Growth (%)`),])"
   ]
  },
  {
   "cell_type": "markdown",
   "id": "530f3cee",
   "metadata": {},
   "source": [
    "#### Calculate total variance explained by each principal component"
   ]
  },
  {
   "cell_type": "markdown",
   "id": "36a53cae",
   "metadata": {},
   "source": [
    "#### Each of the numbers below shows the percentage of variance each principal component explains in the data set\n",
    "#### PC 1 and 2 explain the most variance "
   ]
  },
  {
   "cell_type": "code",
   "execution_count": null,
   "id": "76f7557b",
   "metadata": {},
   "outputs": [],
   "source": [
    "ulv_PCA$sdev^2/sum(ulv_PCA$sdev^2)"
   ]
  },
  {
   "cell_type": "markdown",
   "id": "6636680b",
   "metadata": {},
   "source": [
    "#### Make a scree plot to display the total variance explained by each principal component"
   ]
  },
  {
   "cell_type": "code",
   "execution_count": null,
   "id": "6c836523",
   "metadata": {},
   "outputs": [],
   "source": [
    "var_explained = ulv_PCA$sdev^2/sum(ulv_PCA$sdev^2)"
   ]
  },
  {
   "cell_type": "code",
   "execution_count": null,
   "id": "53ba34b6",
   "metadata": {},
   "outputs": [],
   "source": [
    "screeplot <- qplot(c(1:4), var_explained) +\n",
    "    geom_line() +\n",
    "    xlab(\"Principal Component\") +\n",
    "    ylab(\"Variance Explained\") +\n",
    "    ggtitle(\"Scree Plot\") +\n",
    "    ylim(0,1)"
   ]
  },
  {
   "cell_type": "code",
   "execution_count": null,
   "id": "d0195ecc",
   "metadata": {},
   "outputs": [],
   "source": [
    "fix_screeplot <- screeplot +\n",
    "    theme(text = element_text(size = 16))\n",
    "fix_screeplot"
   ]
  }
 ],
 "metadata": {
  "kernelspec": {
   "display_name": "R",
   "language": "R",
   "name": "ir"
  },
  "language_info": {
   "codemirror_mode": "r",
   "file_extension": ".r",
   "mimetype": "text/x-r-source",
   "name": "R",
   "pygments_lexer": "r",
   "version": "4.2.1"
  }
 },
 "nbformat": 4,
 "nbformat_minor": 5
}
